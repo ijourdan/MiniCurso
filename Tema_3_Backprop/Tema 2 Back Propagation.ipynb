{
 "cells": [
  {
   "cell_type": "markdown",
   "metadata": {
    "slideshow": {
     "slide_type": "slide"
    }
   },
   "source": [
    "Redes Neuronales - Backpropagation\n",
    "---\n",
    "<img src=\"img/01.png\" alt=\"drawing\" />"
   ]
  },
  {
   "cell_type": "markdown",
   "metadata": {
    "slideshow": {
     "slide_type": "slide"
    }
   },
   "source": [
    "<img src=\"img/02.png\" alt=\"drawing\" width=\"1500\"/> \n",
    "\n",
    "---"
   ]
  },
  {
   "cell_type": "markdown",
   "metadata": {
    "slideshow": {
     "slide_type": "slide"
    }
   },
   "source": [
    "<img src=\"img/03.png\" alt=\"drawing\" width=\"1500\"/> \n",
    "\n",
    "---"
   ]
  },
  {
   "cell_type": "markdown",
   "metadata": {
    "slideshow": {
     "slide_type": "slide"
    }
   },
   "source": [
    "<img src=\"img/04.png\" alt=\"drawing\" /> \n",
    "\n",
    "---"
   ]
  },
  {
   "cell_type": "markdown",
   "metadata": {
    "slideshow": {
     "slide_type": "slide"
    }
   },
   "source": [
    "# Cantidad de coeficientes (niveles y parámetros $\\beta$).\n",
    "\n",
    "### Un poco de teoría de Optimización:\n",
    "\n",
    "El problema de optimización es básicamente encontrar una función $f^*_{\\mathcal{F}}$ que minimice el riesgo\n",
    "\n",
    "$$E[f^*_{\\mathcal{F}}]=\\underset{f\\in\\mathcal{F}}{min} E[f] = \\underset{f\\in\\mathcal{F}}{min} \\int \\mathcal{L}(Y, f(X;\\beta)) P(X,Y) dX dY$$\n",
    "\n",
    "#### Por Aproximación (Error de Bayes):\n",
    "\n",
    "* Es **imposible** determinar una función $f^*_{\\mathcal{F}}$ entre todas las posibles funciones.\n",
    "* En cambio, Se busca $f^*_{\\mathcal{F}(\\beta)}$ una función que minimiza $ E[\\mathcal{L}(Y, f(X;\\beta))]$ a partir de una colección de funciones parametrizadas $\\mathcal{F}(\\beta)$ (Todas las posibles funciones que puede representar una red neuronal).\n",
    "$$E[f^*_{\\mathcal{F}(\\beta)}]=\\underset{f\\in\\mathcal{F}_\\beta}{min} E[f] = \\underset{f\\in\\mathcal{F}_\\beta}{min} E[\\mathcal{L}(Y, f(X;\\beta))]$$\n",
    "\n",
    "El **Error de Bayes** es el error teórico, y la cota mínima del error, justamente por aproximar mediante un conjunto de funciones que, en principio, no generan la función buscada.  Es lo se hace con una red neuronal durante el entrenamiento. Se busca **aproximar** a una función, que no es conocida, y que vive en un espacio de infinitas funciones mediante una colección de funciones definidas por $\\beta$.\n",
    "\n",
    "#### Estimación:\n",
    "\n",
    "* Pero es **imposible** determinar $f^*_{\\mathcal{F}(\\beta)}$ . No se puede determinar la  $E[\\mathcal{L}(Y, f(X;\\beta)]$, porque no se conoce la distribución de probabilidad $P(x,y)$. \n",
    "* Lo que se puede hacer es busca $f^*_n$ que minimice el **promedio** del costo $\\mathcal{L}(Y, f(X;\\beta))$, \n",
    "\n",
    "$$E[f^*_n]= \\underset{f\\in\\mathcal{F}(\\beta)}{min} E[f] \\approx \\frac{1}{n} \\sum_{i=0}^{n} \\mathcal{L}(Y, f(X;\\beta))$$\n",
    "\n",
    "#### Entonces, hay un Error en Exceso, o Error de Entrenamiento.\n",
    "El error por aproximación es el óptimo, el exceso de error es por causa de la estimación, es decir, por el entrenamiento de la red.\n",
    "\n",
    "$$\\epsilon_{entrenamiento} = E[f^*_n] - E[f^*_{\\mathcal{F}(\\beta)}] = (E[f^*_n] - E[f^*_{\\mathcal{F}}]) + (E[f^*_{\\mathcal{F}}] - E[f^*_{\\mathcal{F}(\\beta)}]) = \\epsilon_{estimación} + \\epsilon_{aproximación}$$\n",
    "\n",
    "<img src=\"img/11.png\" alt=\"drawing\" width=\"500\"/> \n",
    "\n",
    "Vapnik and Chervonenkis, Ordered risk minimization, 1974\n",
    "\n",
    "<div class=\"alert alert-block alert-danger\">\n",
    "    \n",
    "<b>Conclusión:</b> Aumentar la cantidad de parámetros disminuye el error de aproximación, es decir, el estimador empieza a imitar lo que los datos le muestran. El problema es que deja de estimar. Es decir, al aumentar la cantidad de parámetros, se le da la posibilidad a la red de que *memorice* los datos. Esto es **overfitting**. \n",
    "Aumentar la cantidad de parámetros requiere, entonces, aumentar la cantidad de muestras de entrenamiento.\n",
    "</div>"
   ]
  },
  {
   "cell_type": "markdown",
   "metadata": {
    "hide_input": false,
    "slideshow": {
     "slide_type": "slide"
    }
   },
   "source": [
    "# Back Propagación\n",
    "\n",
    "Bryson & Ho [1969]; Werbos [1974]; Parker [1985]; Rumelhart, Hinton & Williams [1986a]; Le Cun [1985]\n",
    "\n",
    "## Modelo de Redes Neuronales. \n",
    "<img src=\"img/12.png\" alt=\"drawing\" width=\"400\"/> \n",
    "\n",
    "Se tiene una red similar a la de la figura, la cual posee entradas $X_k$, y como salida $O_i$, donde existe un nivel oculto con neuronas $V_j$. La relación entre estas variables está dada por:\n",
    "\n",
    "$$ O_i = g \\left ( \\sum_j W_{ij} V_j \\right)$$\n",
    "\n",
    "siendo $g(\\bullet)$ la función de activación. Esta ecuación se denomina \"ecuación de salida\", y da inicio al proceso de optimización. Por otra parte, las variables $V_j$ son la salida del nivel oculto, y tiene la forma:\n",
    "\n",
    "$$ V_j = g \\left(\\sum_k w_{jk} X_k \\right)$$\n",
    "\n",
    "donde $X_k$ es la entrada a la red y constituye el vector de entrada. **Nota: aquí se asume que el parámetro de ordena $b$ se integró al peso, y el vector de entrada a la red posee una variable más con valor 1**\n",
    "\n",
    "Si bien esta última ecuación responde a la entrada de la red, si hubieran un nivel ocultos intermedios adicionales, se puede generalizar planteando\n",
    "\n",
    "$$ V_j^m = g \\left(\\sum_k w_{jk} V_k^{m-1} \\right)$$\n",
    "\n",
    "siendo $m$ el nivel de la red, donde $V_k^0 = X_k$. Desde ya, los índices $j$ y $k$ tendrán un recorrido adecuado a la topología de cada nivel.\n",
    "\n",
    "Finalmente, para el ejemplo en cuestión, la ecuación de la red, o estimado, es,\n",
    "\n",
    "$$ O_i = g \\left ( \\sum_j W_{ij}  g \\left(\\sum_k w_{jk} X_k \\right) \\right)$$"
   ]
  },
  {
   "cell_type": "markdown",
   "metadata": {
    "slideshow": {
     "slide_type": "slide"
    }
   },
   "source": [
    "## Entrenamiento - Optimización.\n",
    "\n",
    "Igual que antes, la red es un estimador $\\hat{Y}(X;W) = O(X;W)$\n",
    "\n",
    "y se define un costo de estimar mal, o función de $\\mathcal{Loss}$:\n",
    "\n",
    "$$\\mathcal{Loss}(Y,X;w_{i,j}) = \\left \\| Y - O(X;w_{i,j}) \\right \\|^2 $$\n",
    "\n",
    "$$\\mathcal{Loss}(Y,X;w_{i,j}) = \\frac {1}{2}\\left ( \\sum Y_i  - g \\left ( \\sum_j W_{ij}  g \\left(\\sum_k w_{jk} X_k \\right) \\right) \\right )^2 $$\n",
    "\n",
    "Luego, se ajustan los pesos mediante aproximaciones sucesivas:\n",
    "\n",
    "$$ w_{i,j}^n = w_{i,j}^{n-1} - \\eta \\; \\nabla_{w_{ij}} \\mathcal{Loss}(Y, X;w^{n-1})$$\n",
    "\n",
    "donde el gradiente relativo a cada peso está dado por:\n",
    "\n",
    "$$\\Delta w_{i,j} = - \\eta \\; \\nabla_{w_{ij}} \\mathcal{Loss}(Y, X;w) = - \\eta \\; \\frac{\\partial \\mathcal{Loss}(Y,X;w)}{\\partial w_{ij}}$$\n",
    "\n",
    "\n",
    "\n",
    "donde $\\eta \\ll 1$ es la velocidad de aprendizaje y $n \\in \\mathbb{N}$ es el paso de aprendizaje. \n",
    "\n",
    "**Nota: Se va a considerar el algoritmo de Gradiente Descendente Estocástico, generando el gradiente a partir de una muestra. En caso de desarrollar el GD clásico, la actualización del los pesos se debe realizar sobre el promedio de todas las muestras**\n",
    "\n",
    "#### Conexión oculto-salida:\n",
    "Como punto de partida para determinar el algoritmo de optimización se plantea determinar la actualización de los pesos $W_{ij}$, que corresponden a la conexión entre el nivel oculto $V_j$ y la salida $O_i$\n",
    "\n",
    "$$ O_i = g \\left ( \\sum_j W_{ij} V_j \\right)$$\n",
    "\n",
    "Por lo tanto la actualización de los pesos estará dada por \n",
    "\n",
    "$$\\begin{array}\\\\\n",
    "\\Delta W_{ij} = - \\eta \\frac{\\partial \\mathcal{Loss}}{\\partial W_{ij}} & = \\eta \\left (Y_i - O_i \\right)g'(h_i) V_j\\\\\n",
    "~ & = \\eta \\; \\delta_i \\; V_j\n",
    "\\end{array}$$\n",
    "\n",
    "donde $h_i = \\sum_j W_{ij} V_j$ y \n",
    "\n",
    "$$ \\delta_i = \\left (Y_i - O_i \\right)g'(h_i)$$\n",
    "\n",
    "$\\delta_i$  es un término importante del algoritmo, y se identificará su estructura a lo largo del algoritmo.\n",
    "\n",
    "#### Conexión entrada - oculto:\n",
    "\n",
    "<img src=\"img/13.png\" alt=\"drawing\" width=\"500\"/> \n",
    "\n",
    "En este caso, se busca determinar el gradiente para los pesos río abajo, $w_{jk}$. Empleando la regla de la cadena se llega al gradiente:\n",
    "\n",
    "$$\\begin{array}\\\\\n",
    "\\Delta w_{jk} & = - \\eta \\frac{\\partial \\mathcal{Loss}}{\\partial w_{jk}} =  -\\eta \\frac{\\partial \\mathcal{Loss}}{\\partial V_j} \\frac{\\partial V_j}{\\partial w_{jk}}\\\\\n",
    "~& =  \\eta \\; \\sum_i \\left (Y_i - O_i \\right)g'(h_i) W_{ij} \\frac{\\partial V_j}{\\partial w_{jk}}\\\\\n",
    "~& =  \\eta \\; \\sum_i \\delta_i \\; W_{ij} \\; \\frac{\\partial V_j}{\\partial w_{jk}}\\\\\n",
    "~& =  \\eta \\; \\sum_i \\delta_i \\; W_{ij} \\; g'(h_j)\\;X_k \\\\\n",
    "\\Delta w_{jk}  & =  \\eta \\; \\delta_j \\; X_k\n",
    "\\end{array}$$\n",
    "\n",
    "\n",
    "\n",
    "siendo $h_j =  \\sum_k w_{jk} X_k$, y\n",
    "\n",
    "$$ \\delta_j = g'(h_j) \\; \\sum_i W_{ij} \\; \\delta_i$$\n",
    "\n",
    "### Propagación hacia atrás del Error. Generalización\n",
    "\n",
    "<img src=\"img/12.png\" alt=\"drawing\" width=\"400\"/> \n",
    "\n",
    "En la determinación de la variación de los pesos $w_{jk}$ se puede observar una propagación del error de estimación $\\epsilon_i = (Y_i - O_i)$. En efecto, se puede escribir a $\\delta_i$ como\n",
    "$$\\delta_i = (Y_i - O_i) g'\\left(\\sum_j W_{ij} V_j\\right) = \\; g'\\left(\\sum_j W_{ij} V_j\\right) \\; \\epsilon_i $$\n",
    "\n",
    "Luego, el error se propaga hacia atrás en la red,\n",
    "\n",
    "$$ \\delta_j = g'\\left(\\sum_k w_{jk} X_k\\right) \\; \\sum_i W_{ij} \\; \\delta_i = g'\\left(\\sum_k w_{jk} X_k\\right) \\epsilon_j$$\n",
    "\n",
    "y finalmente se determina la variación de los parámetros\n",
    "\n",
    "$$\\Delta w_{jk}   =  \\eta \\; \\delta_j \\; V_k$$"
   ]
  },
  {
   "cell_type": "markdown",
   "metadata": {
    "slideshow": {
     "slide_type": "slide"
    }
   },
   "source": [
    "## Algoritmo de Backpropagation \n",
    "\n",
    "### Derivadas.\n",
    "\n",
    "Las funciones de activación son particularmente eficientes computacionalmente hablando. Por ejemplo, las siguientes funciones de activación,\n",
    "\n",
    "\n",
    "1. $g(h) =  \\frac{1}{1 \\; + \\; exp(-2 \\alpha h)}$\n",
    "2. $g(h) =  tanh(\\alpha \\; h)$\n",
    "3. $g(h) =  ReLU(h)$\n",
    "\n",
    "\n",
    "poseen las siguientes derivadas primeras, \n",
    "\n",
    "\n",
    "1. $g'(h) = 2 \\alpha g(1-g)$\n",
    "2. $g'(h) = \\alpha (1-g^2)$\n",
    "3. $g'(h) = \\left \\{ \\begin{array}\\\\\n",
    "1 & h \\geq 0 \\\\\n",
    "0 & h < 0\n",
    "\\end{array} \\right .$\n",
    "\n",
    "Como se observa, no se requiere estimar la derivada, basta conocer la función de activación."
   ]
  },
  {
   "cell_type": "markdown",
   "metadata": {
    "slideshow": {
     "slide_type": "slide"
    }
   },
   "source": [
    "---\n",
    "\n",
    "<img src=\"img/09.png\" alt=\"drawing\" width=\"1500\"/> \n",
    "El algoritmo de backpropagación es empleado en redes profundas, pero se emplean unidades lineales rectificadas **Relu**. Esto se debe a dos motivos, primero no desvanecen el gradiente, como es el caso de las neuronas con función de activación **tanh** u otras, y segundo, son muy simples computacionalmente hablando."
   ]
  },
  {
   "cell_type": "markdown",
   "metadata": {
    "slideshow": {
     "slide_type": "slide"
    }
   },
   "source": [
    "### Algoritmo.\n",
    "\n",
    "1. Inicializar todos los pesos para los m-niveles $w_{ij}^m$ con pequeños valores aleatorios.\n",
    "2. Seleccionar una muestra $X$ y aplicarlo al layer de entrada (m=0) $$V_k^0 = X_k \\; \\forall k$$\n",
    "3. Propagar la muestra por la red: $$V_i^m = g(h_i^m)=g \\left( \\sum_j \\; w_{ij}^m \\; V_j^{m-1} \\right)$$ para todo $i$ y nivel $m$, hasta el último nivel $V_i^M$. \n",
    "4. Calcular la propagación del error, empezando por el nivel de salida $\\delta_i^M$: \n",
    "$$ \\delta_i^M = g'(h_i^M)\\;(Y_i-V_i^M)$$\n",
    "5. Calcular la propagación del error en todos los niveles de la red $$\\delta_i^{m-1}=g'(h_i^{m-1})\\sum_j w_{ij}^m \\delta_j^m$$\n",
    "para $m = M, M-1, \\dots, 2$. \n",
    "6. Calcular la variación de los pesos $w_{ij}^m$ $$\\Delta w_{ij}^m = \\eta \\; \\delta_i^m V_j^{m-1}$$\n",
    "7. Retroceder al nivel 2 y repetir el proceso."
   ]
  },
  {
   "cell_type": "markdown",
   "metadata": {
    "slideshow": {
     "slide_type": "slide"
    }
   },
   "source": [
    "#  Aplicación de Perceptron multicapas en un problema de regresión.\n",
    "\n",
    "## Regresión sobre muestras de la función $y = \\sin(x)$\n",
    "\n",
    "Entonces, vamos a buscar de aproximar con un modelo a la función $ y = \\sin(x)$.\n",
    "\n",
    "Esto es un problema de regresión, no de clasificación. En este caso, no hay un conjunto numerable de labels.  \n",
    "\n",
    "Se definen,\n",
    "\n",
    "* $X = \\left \\{ x_0, x_1, \\cdots, x_n \\right \\}$, un conjunto de elementos tales que $x_j \\in [0,2\\pi]$ y $n \\in \\mathbb{N}$.\n",
    "* $y = \\sin(X) = \\left \\{ \\sin(x_0), \\sin(x_1), \\cdots, \\sin(x_n) \\right \\}$ al conjunto de evaluación $y_i = \\sin(a_i)$\n",
    "\n",
    "\n",
    "el *corpus* de entrenamiento $\\mathbf{C}$ se constituye mediante el conjunto de tuplas \n",
    "\n",
    "$$ \\mathbf{C} = \\left \\{ (x_i, y_i) \\right \\} $$\n",
    "\n",
    "donde cada tupla consiste una muestra de entrenamiento supervisado."
   ]
  },
  {
   "cell_type": "markdown",
   "metadata": {
    "slideshow": {
     "slide_type": "slide"
    }
   },
   "source": [
    "Se define un Perceptron multicapa con,\n",
    "\n",
    "* una entrada\n",
    "* un layer oculto de 6 neuronas.\n",
    "* un layer de salida con una neurona.\n",
    "\n",
    "Cada neurona tiene como función de activación,\n",
    "\n",
    "\n",
    "$$f(v) = \\tanh(v) = \\frac {e^v - e^{-v}}{e^v + e^{-v}}$$\n",
    "\n",
    "quedando definida la unidad: \n",
    "\n",
    "$$ O = g \\left( \\sum_j w_j ~ V_j(I) + b \\right )$$ \n",
    "\n",
    "donde $V_j$ son las entradas a la neurona, $b$ es el parámetro de bias, $w_j$ son los pesos, y finalmente $O$ es la salida de la neurona.\n",
    "\n",
    "\n"
   ]
  },
  {
   "cell_type": "markdown",
   "metadata": {
    "slideshow": {
     "slide_type": "slide"
    }
   },
   "source": [
    "<img src=\"img/05.png\" alt=\"drawing\" width=\"1500\"/> \n",
    "\n",
    "---"
   ]
  },
  {
   "cell_type": "markdown",
   "metadata": {
    "slideshow": {
     "slide_type": "slide"
    }
   },
   "source": [
    "## ¿Cómo entrenar? - Validación Cruzada (Cross-Validation)\n",
    "\n",
    "Las redes neuronales, particularmente las redes profundas, son muy propensas al overfitting, es decir, tienden a memorizar los datos de entrenamiento, **disminuyendo el error de aproximación**, pero **aumentando el error de estimación** y por lo tanto no el estimador no generaliza.\n",
    "\n",
    "Para reducir este problema, se desarrollaron técnicas de entrenamiento con validación. Existen diferentes variantes, aquí se discutirán sólo algunas:\n",
    "\n",
    "<img src=\"img/10.png\" alt=\"drawing\" width=\"1500\"/> \n",
    "\n",
    "Este procedimiento suele emplearse en redes de aprendizaje profundo con gran cantidad de datos."
   ]
  },
  {
   "cell_type": "markdown",
   "metadata": {
    "slideshow": {
     "slide_type": "slide"
    }
   },
   "source": [
    "### Curvas de Exactitud y Loss.\n",
    "\n",
    "Durante el aprendizaje, al finalizar una época, se recaban las mediciones de $Loss$, la última de la etapa de entrenamiento, y el resultado de la etapa de validación. Ello permite generar gráficas que permiten controlar el aprendizaje,\n",
    "\n",
    "<img src=\"img/15.png\" alt=\"drawing\" width=\"1500\"/> \n",
    "\n",
    "\n",
    "Alternativamente al parámetro de Exactitud (Accuracy) se plantea el **coeficiente de determinación $R^2$**, también llamado $R^2 Score$\n",
    "\n",
    "$$R^2Score = 1 - \\frac{u}{v} = 1 - \\frac{\\sum (y_{true}-y_{pred})^2}{\\sum (y_{true} - E[y_{true}])^2}$$\n",
    "\n",
    "donde $u$ es el residuo, o error cuadrático medio y $v$ es relativo a la varianza del valor verdadero. $R^2Score \\in [0,1]$ donde $R^2Score =1$ implica que el modelo aprendió a predecir todas las muestras. Un indicio de overfitting.  En el ejemplo se empleará $R^2Score$, en lugar de la Exactitud, el cual es una medida más adecuada para cuando se trata de estimación por regresión."
   ]
  },
  {
   "cell_type": "markdown",
   "metadata": {
    "slideshow": {
     "slide_type": "slide"
    }
   },
   "source": [
    "### K-Fold Cross-Validation.\n",
    "\n",
    "Cuando se tiene un conjunto de entrenamiento con relativamente pocos datos, se puede dividir el conjunto de datos en un conjunto de entrenamiento de 80% del conjunto de datos, y otro de 20% como conjunto testeo. Este procedimiento implica que el estimador no se entrenará en los datos de testeo, generando un sesgo. Existen procedimientos más robustos como K-fold Cross Validation.\n",
    "\n",
    "<img src=\"img/14.png\" alt=\"drawing\" width=\"1500\"/> \n"
   ]
  },
  {
   "cell_type": "markdown",
   "metadata": {
    "slideshow": {
     "slide_type": "slide"
    }
   },
   "source": [
    "### Implementación con Scikit-Learn\n",
    "\n",
    "La optimización que se empleará es **Adam** (`activation = 'adam'`), que una implementación de gradiente descendente estocástico realizada por <a href=\"https://arxiv.org/abs/1412.6980\">Kingma, Diederik y Ba</a>. \n",
    "\n",
    "Otra posibilidad es la de **Broyden–Fletcher–Goldfarb–Shanno** con poco uso de memoria, (`activation = 'lbfgs'`) desarrollada por <a href=\"https://citeseerx.ist.psu.edu/viewdoc/summary?doi=10.1.1.645.5814\">Byrd, Lu y Nocedal</a>. esta optimización es de segundo orden, es decir con derivadas parciales segundas, y por lo tanto trabaja sobre la matriz Hessiana, y no sobre el gradiente. Posee mejor convergencia, pero a un mayor costo. Tiene la inconveniencia que converge a puntos de montura. No se emplea en deep learning.\n",
    "\n",
    "También se puede emplear **SGD**, (`activation = 'sgd'`)que es el algoritmo de optimización estudiado aquí.\n",
    "\n"
   ]
  },
  {
   "cell_type": "markdown",
   "metadata": {
    "slideshow": {
     "slide_type": "slide"
    }
   },
   "source": [
    "### El corpus de datos $[X, y]$ y $[X_{test}, y_{test}]$"
   ]
  },
  {
   "cell_type": "code",
   "execution_count": 1,
   "metadata": {
    "slideshow": {
     "slide_type": "-"
    }
   },
   "outputs": [],
   "source": [
    "from sklearn.neural_network import MLPRegressor\n",
    "from sklearn.metrics import r2_score\n",
    "import numpy as np\n",
    "import matplotlib.pyplot as plt"
   ]
  },
  {
   "cell_type": "code",
   "execution_count": 2,
   "metadata": {
    "hide_input": false,
    "scrolled": false,
    "slideshow": {
     "slide_type": "-"
    }
   },
   "outputs": [
    {
     "data": {
      "image/png": "[encoded data removed]",
      "text/plain": [
       "<Figure size 576x576 with 1 Axes>"
      ]
     },
     "metadata": {
      "needs_background": "light"
     },
     "output_type": "display_data"
    }
   ],
   "source": [
    "n_muestras = 200\n",
    "# selección aleatoria muestras del dominio [0,2*pi]\n",
    "X = np.random.rand(n_muestras,1)*2*np.pi\n",
    "# salida esperada\n",
    "y = np.sin(X).reshape(-1)\n",
    "\n",
    "n_test = 100\n",
    "# selección aleatoria muestras del dominio [0,2*pi]\n",
    "X_test = np.random.rand(n_test,1)*2*np.pi\n",
    "# salida esperada\n",
    "y_test = np.sin(X_test).reshape(-1)\n",
    "\n",
    "plt.figure(figsize=(8,8))\n",
    "plt.plot(X,y,'.')\n",
    "plt.grid()"
   ]
  },
  {
   "cell_type": "markdown",
   "metadata": {
    "slideshow": {
     "slide_type": "slide"
    }
   },
   "source": [
    "### Definición del Modelo de Regresión"
   ]
  },
  {
   "cell_type": "code",
   "execution_count": 12,
   "metadata": {
    "slideshow": {
     "slide_type": "-"
    }
   },
   "outputs": [],
   "source": [
    "clf = MLPRegressor(hidden_layer_sizes=(20,6,), #layers ocultos (#Neuronas Hidden Layer 1,#NHL2,#NHL3,...,)\n",
    "                   activation='relu', # función de activación\n",
    "                   batch_size = 1,\n",
    "                   early_stopping = True,  # detiene el aprendizaje cuando no se encuentran mejores soluciones\n",
    "                   validation_fraction = .2, # 0.2 :  20% del cuerpo de entrenamiento para validación.\n",
    "                   solver='adam',  # Optimizador\n",
    "                   learning_rate='adaptive', # Velocidad de aprendizaje (eta)\n",
    "                   max_iter=1200, # Cantidad máxima de epocas.\n",
    "                   alpha=0.001, # Termino de normalización. Penalización en L2\n",
    "                   #verbose = True\n",
    "                   )"
   ]
  },
  {
   "cell_type": "markdown",
   "metadata": {
    "slideshow": {
     "slide_type": "slide"
    }
   },
   "source": [
    "### Entrenamiento y Testing."
   ]
  },
  {
   "cell_type": "code",
   "execution_count": 13,
   "metadata": {},
   "outputs": [
    {
     "data": {
      "image/png": "[encoded data removed]",
      "text/plain": [
       "<Figure size 576x576 with 1 Axes>"
      ]
     },
     "metadata": {
      "needs_background": "light"
     },
     "output_type": "display_data"
    }
   ],
   "source": [
    "# Entrnamiento:\n",
    "clf.fit(X, y)\n",
    "\n",
    "# Testing\n",
    "y_out = clf.predict(X_test)  # estimación\n",
    "r2s = r2_score(y_test,y_out) #R2 Score\n",
    "\n",
    "fig = plt.figure(figsize=(8,8))\n",
    "plt.plot(X_test,y_test,'b.')\n",
    "plt.plot(X_test,y_out,'r.')\n",
    "plt.title(r'Estimación $\\hat{y}(X,w_{ij})$ (en rojo), $y=sin(x)$ (en azul). $R^2=$'+ f'{r2s:.4f}')\n",
    "plt.grid()\n"
   ]
  },
  {
   "cell_type": "markdown",
   "metadata": {
    "slideshow": {
     "slide_type": "slide"
    }
   },
   "source": [
    "### Curvas descriptivas del aprendizaje."
   ]
  },
  {
   "cell_type": "code",
   "execution_count": 14,
   "metadata": {
    "scrolled": false
   },
   "outputs": [
    {
     "data": {
      "image/png": "[encoded data removed]",
      "text/plain": [
       "<Figure size 576x576 with 2 Axes>"
      ]
     },
     "metadata": {
      "needs_background": "light"
     },
     "output_type": "display_data"
    }
   ],
   "source": [
    "# Evolución del Aprendizaje\n",
    "\n",
    "ax = plt.figure(figsize=(8,8)).subplots()\n",
    "ax.plot(clf.loss_curve_ ,'b')\n",
    "ax.set_xlabel('Epocas')\n",
    "ax.set_ylabel(r'$\\mathcal{Loss}(Y,X,w_{ij})$', color='b')\n",
    "ax.tick_params(axis='y', labelcolor='b')\n",
    "ax.set_title('Evolución del Aprendizaje')\n",
    "ax.grid()\n",
    "ax2 = ax.twinx()\n",
    "ax2.plot(clf.validation_scores_,'r')\n",
    "ax2.set_ylabel(r'$R^2\\;Score$', color='r')\n",
    "ax2.tick_params(axis='y', labelcolor='r')\n",
    "fig.tight_layout()\n"
   ]
  },
  {
   "cell_type": "markdown",
   "metadata": {
    "slideshow": {
     "slide_type": "slide"
    }
   },
   "source": [
    "#### Considere evaluar\n",
    "\n",
    "A modo de práctica, modificar `MLPRegressor` \n",
    "1. Empleando`activation = 'sgd'` y luego con `activation = 'lbfgs'` como optimizadores.\n",
    "2. Pruebe con una función de activación **Relu**, `activation='relu'`. Se verá que no funciona, se necesita aumentar la complejidad de la red, para ello defina `hidden_layer_sizes=(20,6)` y para ayudar a una mejor convergencia mantenga `activation = 'lbfgs'`.\n",
    "\n",
    "Comente las diferencias."
   ]
  },
  {
   "cell_type": "markdown",
   "metadata": {
    "slideshow": {
     "slide_type": "slide"
    }
   },
   "source": [
    "# Ejercicio necesario.\n",
    "\n",
    "Se propone implementar el modelo de regresión de $y = sen(x)$ mediante el perceptron multicapa del ejemplo, es decir con una entrada y una salida, y una capa oculta de 6 neuronas. Cada neurona responde al modelo,\n",
    "\n",
    "$$ V_i = f \\left( \\sum_j w_{i,j} ~ V_j + b_i \\right )$$ \n",
    "\n",
    "donde la función de activación $f(\\bullet) = tanh(\\bullet)$\n",
    "\n",
    "\n",
    "1. Desarrollar y determinar las expresiones correspondiente a $\\Delta w_{j,k}$. En particular, a partir de la definición $\\Delta w_{j,k} = - \\eta \\frac{\\partial Loss}{\\partial w_{j,k}}$ determinar que $$ \\Delta w_{j,k} = \\eta \\sum_\\mu \\delta_j^\\mu V_k^\\mu$$ con $ \\delta_j^\\mu = f'(h_j^\\mu)\\sum_i w_{i,j}~ \\delta_i^\\mu $.\n",
    "\n",
    "2. Implementar el perceptron multicapa con 6 neuronas en el nivel oculto.\n",
    "3. Implementar el algoritmo de backpropagación considerando que se entrena de a una muestra por vez.\n",
    "4. Entrenar el perceptron multicapa aplicando un protocolo de entrenamiento adecuado. Emplear por ejemplo $\\eta = 0.001$, o generar una variante adaptativa al error.\n",
    "5. Informar la calidad del entrenamiento y $R^2$ o la Exactitud resultante.\n"
   ]
  },
  {
   "cell_type": "code",
   "execution_count": null,
   "metadata": {},
   "outputs": [],
   "source": []
  }
 ],
 "metadata": {
  "celltoolbar": "Slideshow",
  "kernelspec": {
   "display_name": "Python 3",
   "language": "python",
   "name": "python3"
  },
  "language_info": {
   "codemirror_mode": {
    "name": "ipython",
    "version": 3
   },
   "file_extension": ".py",
   "mimetype": "text/x-python",
   "name": "python",
   "nbconvert_exporter": "python",
   "pygments_lexer": "ipython3",
   "version": "3.8.10"
  },
  "latex_envs": {
   "LaTeX_envs_menu_present": true,
   "autoclose": true,
   "autocomplete": false,
   "bibliofile": "biblio.bib",
   "cite_by": "apalike",
   "current_citInitial": 1,
   "eqLabelWithNumbers": true,
   "eqNumInitial": 1,
   "hotkeys": {
    "equation": "Ctrl-E",
    "itemize": "Ctrl-I"
   },
   "labels_anchors": false,
   "latex_user_defs": false,
   "report_style_numbering": false,
   "user_envs_cfg": false
  },
  "varInspector": {
   "cols": {
    "lenName": 16,
    "lenType": 16,
    "lenVar": 40
   },
   "kernels_config": {
    "python": {
     "delete_cmd_postfix": "",
     "delete_cmd_prefix": "del ",
     "library": "var_list.py",
     "varRefreshCmd": "print(var_dic_list())"
    },
    "r": {
     "delete_cmd_postfix": ") ",
     "delete_cmd_prefix": "rm(",
     "library": "var_list.r",
     "varRefreshCmd": "cat(var_dic_list()) "
    }
   },
   "types_to_exclude": [
    "module",
    "function",
    "builtin_function_or_method",
    "instance",
    "_Feature"
   ],
   "window_display": false
  }
 },
 "nbformat": 4,
 "nbformat_minor": 2
}
